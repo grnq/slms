{
 "cells": [
  {
   "cell_type": "markdown",
   "id": "3e96d818",
   "metadata": {},
   "source": [
    "Extract emails from an `mbox` file. In Apple.mail, you can right-click on a mailbox and \"Export\" to an mbox file."
   ]
  },
  {
   "cell_type": "code",
   "execution_count": null,
   "id": "1d9b7181",
   "metadata": {},
   "outputs": [],
   "source": [
    "source_mbox = '[your extracted mailbox]'\n",
    "extracted_mail_dir = '[a temporary location]'\n",
    "\n",
    "import mailbox \n",
    "\n",
    "# copied from https://stackoverflow.com/questions/26567843/reading-the-mail-content-of-an-mbox-file-using-python-mailbox\n",
    "def getbody(message): #getting plain text 'email body'\n",
    "    body = None\n",
    "    if message.is_multipart():\n",
    "        for part in message.walk():\n",
    "            if part.is_multipart():\n",
    "                for subpart in part.walk():\n",
    "                    if subpart.get_content_type() == 'text/plain':\n",
    "                        body = subpart.get_payload(decode=True)\n",
    "            elif part.get_content_type() == 'text/plain':\n",
    "                body = part.get_payload(decode=True)\n",
    "    elif message.get_content_type() == 'text/plain':\n",
    "        body = message.get_payload(decode=True)\n",
    "    return body\n",
    "\n",
    "def extract_emails(mbox_file, output_folder): \n",
    "    mbox = mailbox.mbox(mbox_file) \n",
    "    for i, message in enumerate(mbox):\n",
    "        with open(f\"{output_folder}/email_{i+1}.eml\", \"w\", encoding=\"utf-8\") as f: \n",
    "            sender = 'From: ' + str(message.get('From')) + '\\n'\n",
    "            recipients = 'To: ' + str(message.get('To')) + '\\n'\n",
    "            timestamp = 'Date: ' + str(message.get('Date')) + '\\n'\n",
    "            f.write(sender + recipients + timestamp + str(getbody(message)))\n",
    "\n",
    "extract_emails(source_mbox, extracted_mail_dir)"
   ]
  },
  {
   "cell_type": "markdown",
   "id": "28d0093a-fc87-429e-9b21-5cd12638a684",
   "metadata": {},
   "source": [
    "These are the llamaindex imports. See `README.md` for how you install these  "
   ]
  },
  {
   "cell_type": "code",
   "execution_count": 2,
   "id": "8fe564a5-8081-44ef-b228-766662f2ffcd",
   "metadata": {},
   "outputs": [],
   "source": [
    "from llama_index.core import VectorStoreIndex, SimpleDirectoryReader, Settings\n",
    "from llama_index.embeddings.huggingface import HuggingFaceEmbedding\n",
    "from llama_index.llms.ollama import Ollama"
   ]
  },
  {
   "cell_type": "markdown",
   "id": "813eff8e-9c2f-4ecc-ab57-e068bd89e848",
   "metadata": {},
   "source": [
    "start the local LLM and select embedding model \n",
    "make sure to run the model in Ollama first:\n",
    "\n",
    "`$ ollama run llama3.2`"
   ]
  },
  {
   "cell_type": "code",
   "execution_count": 5,
   "id": "bab39482-dc9d-4d5c-a8d9-2a36a6800fec",
   "metadata": {},
   "outputs": [],
   "source": [
    "import openai\n",
    "openai.api_key=\"not used -- this is a local model\"\n",
    "Settings.llm = Ollama(model=\"llama3.2\", request_timeout=360.0)\n",
    "Settings.embed_model = HuggingFaceEmbedding(model_name=\"BAAI/bge-base-en-v1.5\")"
   ]
  },
  {
   "cell_type": "markdown",
   "id": "d5a4fcd1",
   "metadata": {},
   "source": [
    "Set up the database"
   ]
  },
  {
   "cell_type": "code",
   "execution_count": 3,
   "id": "a9f728d2",
   "metadata": {},
   "outputs": [],
   "source": [
    "import chromadb\n",
    "from llama_index.core import VectorStoreIndex, SimpleDirectoryReader\n",
    "from llama_index.vector_stores.chroma import ChromaVectorStore\n",
    "from llama_index.core import StorageContext\n",
    "\n",
    "# set up some constants\n",
    "collection=\"[what you want to call your Chroma collection]\"\n",
    "chroma_db_path=\"[where to store the database]\" #note must exist\n",
    "\n",
    "# initialize client, setting path to save data\n",
    "db = chromadb.PersistentClient(path=chroma_db_path)\n",
    "\n",
    "# create collection\n",
    "chroma_collection = db.get_or_create_collection(collection)\n",
    "\n",
    "# assign chroma as the vector_store to the context\n",
    "vector_store = ChromaVectorStore(chroma_collection=chroma_collection)\n",
    "storage_context = StorageContext.from_defaults(vector_store=vector_store)"
   ]
  },
  {
   "cell_type": "markdown",
   "id": "4497857f",
   "metadata": {},
   "source": [
    "HEADS UP -- if you have added your emails before, skip this step. It can take a _VERY LONG TIME_ so start with a small subset (see code)"
   ]
  },
  {
   "cell_type": "code",
   "execution_count": null,
   "id": "56ae8088",
   "metadata": {},
   "outputs": [],
   "source": [
    "# load some documents\n",
    "documents = SimpleDirectoryReader(extracted_mail_dir).load_data()\n",
    "\n",
    "# if you have a lot of messages, or you want to try things out, add a slice, for example\n",
    "# documents = documents[0:500]\n",
    "\n",
    "# create your index\n",
    "index = VectorStoreIndex.from_documents(\n",
    "    documents, storage_context=storage_context, show_progress=True\n",
    ")"
   ]
  },
  {
   "cell_type": "markdown",
   "id": "a8dbbdbe",
   "metadata": {},
   "source": [
    "HEADSUP again -- if you created the store above, skip this step."
   ]
  },
  {
   "cell_type": "code",
   "execution_count": 13,
   "id": "8a6f24bf-003b-445a-a14e-a8220b5ceb28",
   "metadata": {},
   "outputs": [],
   "source": [
    "# load your index from stored vectors\n",
    "index = VectorStoreIndex.from_vector_store(\n",
    "    vector_store, storage_context=storage_context\n",
    ")\n"
   ]
  },
  {
   "cell_type": "markdown",
   "id": "0a23afa6",
   "metadata": {},
   "source": [
    "Now to the fun part, ask some questions about your email :)"
   ]
  },
  {
   "cell_type": "code",
   "execution_count": null,
   "id": "5b73d767-7c9b-441f-95a1-3081ac8d9c9c",
   "metadata": {},
   "outputs": [],
   "source": [
    "query_engine = index.as_query_engine(streaming=True, response_mode=\"tree_summarize\", verbose=True)\n",
    "response = query_engine.query(\"What are the most common subjects in these emails?\", )\n",
    "response.print_response_stream()"
   ]
  },
  {
   "cell_type": "code",
   "execution_count": null,
   "id": "a7a07662-e6fb-4af1-b605-1cfc4ef6de2e",
   "metadata": {},
   "outputs": [],
   "source": [
    "response = query_engine.query(\"Which sender uses the shortest sentences in their emails and what do they write about?\")\n",
    "response.print_response_stream()"
   ]
  }
 ],
 "metadata": {
  "kernelspec": {
   "display_name": "base",
   "language": "python",
   "name": "python3"
  },
  "language_info": {
   "codemirror_mode": {
    "name": "ipython",
    "version": 3
   },
   "file_extension": ".py",
   "mimetype": "text/x-python",
   "name": "python",
   "nbconvert_exporter": "python",
   "pygments_lexer": "ipython3",
   "version": "3.12.4"
  }
 },
 "nbformat": 4,
 "nbformat_minor": 5
}
